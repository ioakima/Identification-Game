{
  "nbformat": 4,
  "nbformat_minor": 0,
  "metadata": {
    "colab": {
      "name": "Gauss_resnet_18 (1).ipynb",
      "provenance": [],
      "collapsed_sections": []
    },
    "kernelspec": {
      "name": "python3",
      "display_name": "Python 3"
    },
    "accelerator": "GPU",
    "widgets": {
      "application/vnd.jupyter.widget-state+json": {
        "e8db86d1fa324f72ac10b228d118fdd5": {
          "model_module": "@jupyter-widgets/controls",
          "model_name": "HBoxModel",
          "state": {
            "_view_name": "HBoxView",
            "_dom_classes": [],
            "_model_name": "HBoxModel",
            "_view_module": "@jupyter-widgets/controls",
            "_model_module_version": "1.5.0",
            "_view_count": null,
            "_view_module_version": "1.5.0",
            "box_style": "",
            "layout": "IPY_MODEL_e7c09448392b4a38a2025006a1e9fc1a",
            "_model_module": "@jupyter-widgets/controls",
            "children": [
              "IPY_MODEL_6f8c460accb84e3a9ebb93610b2dd021",
              "IPY_MODEL_10b91ba79f49404ba8b072755a594429"
            ]
          }
        },
        "e7c09448392b4a38a2025006a1e9fc1a": {
          "model_module": "@jupyter-widgets/base",
          "model_name": "LayoutModel",
          "state": {
            "_view_name": "LayoutView",
            "grid_template_rows": null,
            "right": null,
            "justify_content": null,
            "_view_module": "@jupyter-widgets/base",
            "overflow": null,
            "_model_module_version": "1.2.0",
            "_view_count": null,
            "flex_flow": null,
            "width": null,
            "min_width": null,
            "border": null,
            "align_items": null,
            "bottom": null,
            "_model_module": "@jupyter-widgets/base",
            "top": null,
            "grid_column": null,
            "overflow_y": null,
            "overflow_x": null,
            "grid_auto_flow": null,
            "grid_area": null,
            "grid_template_columns": null,
            "flex": null,
            "_model_name": "LayoutModel",
            "justify_items": null,
            "grid_row": null,
            "max_height": null,
            "align_content": null,
            "visibility": null,
            "align_self": null,
            "height": null,
            "min_height": null,
            "padding": null,
            "grid_auto_rows": null,
            "grid_gap": null,
            "max_width": null,
            "order": null,
            "_view_module_version": "1.2.0",
            "grid_template_areas": null,
            "object_position": null,
            "object_fit": null,
            "grid_auto_columns": null,
            "margin": null,
            "display": null,
            "left": null
          }
        },
        "6f8c460accb84e3a9ebb93610b2dd021": {
          "model_module": "@jupyter-widgets/controls",
          "model_name": "FloatProgressModel",
          "state": {
            "_view_name": "ProgressView",
            "style": "IPY_MODEL_9ea1453691724cbf97797bca55b31b93",
            "_dom_classes": [],
            "description": "100%",
            "_model_name": "FloatProgressModel",
            "bar_style": "success",
            "max": 102502400,
            "_view_module": "@jupyter-widgets/controls",
            "_model_module_version": "1.5.0",
            "value": 102502400,
            "_view_count": null,
            "_view_module_version": "1.5.0",
            "orientation": "horizontal",
            "min": 0,
            "description_tooltip": null,
            "_model_module": "@jupyter-widgets/controls",
            "layout": "IPY_MODEL_670593de6f92445287bcead14f6af3cf"
          }
        },
        "10b91ba79f49404ba8b072755a594429": {
          "model_module": "@jupyter-widgets/controls",
          "model_name": "HTMLModel",
          "state": {
            "_view_name": "HTMLView",
            "style": "IPY_MODEL_d82e340b4bce458b89465a1a5588338d",
            "_dom_classes": [],
            "description": "",
            "_model_name": "HTMLModel",
            "placeholder": "​",
            "_view_module": "@jupyter-widgets/controls",
            "_model_module_version": "1.5.0",
            "value": " 97.8M/97.8M [04:13&lt;00:00, 405kB/s]",
            "_view_count": null,
            "_view_module_version": "1.5.0",
            "description_tooltip": null,
            "_model_module": "@jupyter-widgets/controls",
            "layout": "IPY_MODEL_daa4fca711d442919151450aa53976e6"
          }
        },
        "9ea1453691724cbf97797bca55b31b93": {
          "model_module": "@jupyter-widgets/controls",
          "model_name": "ProgressStyleModel",
          "state": {
            "_view_name": "StyleView",
            "_model_name": "ProgressStyleModel",
            "description_width": "initial",
            "_view_module": "@jupyter-widgets/base",
            "_model_module_version": "1.5.0",
            "_view_count": null,
            "_view_module_version": "1.2.0",
            "bar_color": null,
            "_model_module": "@jupyter-widgets/controls"
          }
        },
        "670593de6f92445287bcead14f6af3cf": {
          "model_module": "@jupyter-widgets/base",
          "model_name": "LayoutModel",
          "state": {
            "_view_name": "LayoutView",
            "grid_template_rows": null,
            "right": null,
            "justify_content": null,
            "_view_module": "@jupyter-widgets/base",
            "overflow": null,
            "_model_module_version": "1.2.0",
            "_view_count": null,
            "flex_flow": null,
            "width": null,
            "min_width": null,
            "border": null,
            "align_items": null,
            "bottom": null,
            "_model_module": "@jupyter-widgets/base",
            "top": null,
            "grid_column": null,
            "overflow_y": null,
            "overflow_x": null,
            "grid_auto_flow": null,
            "grid_area": null,
            "grid_template_columns": null,
            "flex": null,
            "_model_name": "LayoutModel",
            "justify_items": null,
            "grid_row": null,
            "max_height": null,
            "align_content": null,
            "visibility": null,
            "align_self": null,
            "height": null,
            "min_height": null,
            "padding": null,
            "grid_auto_rows": null,
            "grid_gap": null,
            "max_width": null,
            "order": null,
            "_view_module_version": "1.2.0",
            "grid_template_areas": null,
            "object_position": null,
            "object_fit": null,
            "grid_auto_columns": null,
            "margin": null,
            "display": null,
            "left": null
          }
        },
        "d82e340b4bce458b89465a1a5588338d": {
          "model_module": "@jupyter-widgets/controls",
          "model_name": "DescriptionStyleModel",
          "state": {
            "_view_name": "StyleView",
            "_model_name": "DescriptionStyleModel",
            "description_width": "",
            "_view_module": "@jupyter-widgets/base",
            "_model_module_version": "1.5.0",
            "_view_count": null,
            "_view_module_version": "1.2.0",
            "_model_module": "@jupyter-widgets/controls"
          }
        },
        "daa4fca711d442919151450aa53976e6": {
          "model_module": "@jupyter-widgets/base",
          "model_name": "LayoutModel",
          "state": {
            "_view_name": "LayoutView",
            "grid_template_rows": null,
            "right": null,
            "justify_content": null,
            "_view_module": "@jupyter-widgets/base",
            "overflow": null,
            "_model_module_version": "1.2.0",
            "_view_count": null,
            "flex_flow": null,
            "width": null,
            "min_width": null,
            "border": null,
            "align_items": null,
            "bottom": null,
            "_model_module": "@jupyter-widgets/base",
            "top": null,
            "grid_column": null,
            "overflow_y": null,
            "overflow_x": null,
            "grid_auto_flow": null,
            "grid_area": null,
            "grid_template_columns": null,
            "flex": null,
            "_model_name": "LayoutModel",
            "justify_items": null,
            "grid_row": null,
            "max_height": null,
            "align_content": null,
            "visibility": null,
            "align_self": null,
            "height": null,
            "min_height": null,
            "padding": null,
            "grid_auto_rows": null,
            "grid_gap": null,
            "max_width": null,
            "order": null,
            "_view_module_version": "1.2.0",
            "grid_template_areas": null,
            "object_position": null,
            "object_fit": null,
            "grid_auto_columns": null,
            "margin": null,
            "display": null,
            "left": null
          }
        }
      }
    }
  },
  "cells": [
    {
      "cell_type": "code",
      "metadata": {
        "id": "MgtjhsbcD61Y",
        "colab_type": "code",
        "colab": {}
      },
      "source": [
        "%%capture\n",
        "!pip install livelossplot"
      ],
      "execution_count": 0,
      "outputs": []
    },
    {
      "cell_type": "code",
      "metadata": {
        "id": "PNGDE19SlCUS",
        "colab_type": "code",
        "outputId": "4c5b937a-e98a-4cb6-ffaa-934fc5ab5069",
        "colab": {
          "base_uri": "https://localhost:8080/",
          "height": 35
        }
      },
      "source": [
        "%pylab inline"
      ],
      "execution_count": 2,
      "outputs": [
        {
          "output_type": "stream",
          "text": [
            "Populating the interactive namespace from numpy and matplotlib\n"
          ],
          "name": "stdout"
        }
      ]
    },
    {
      "cell_type": "code",
      "metadata": {
        "id": "mquVCExKEM8R",
        "colab_type": "code",
        "outputId": "f1eb8ac4-46f9-4aba-ab98-75ccaab2ad26",
        "colab": {
          "base_uri": "https://localhost:8080/",
          "height": 124
        }
      },
      "source": [
        "from google.colab import drive\n",
        "drive.mount('/content/gdrive/')\n",
        "project_dir='/content/gdrive/My Drive/acse-miniproject/' "
      ],
      "execution_count": 3,
      "outputs": [
        {
          "output_type": "stream",
          "text": [
            "Go to this URL in a browser: https://accounts.google.com/o/oauth2/auth?client_id=947318989803-6bn6qk8qdgf4n4g3pfee6491hc0brc4i.apps.googleusercontent.com&redirect_uri=urn%3aietf%3awg%3aoauth%3a2.0%3aoob&response_type=code&scope=email%20https%3a%2f%2fwww.googleapis.com%2fauth%2fdocs.test%20https%3a%2f%2fwww.googleapis.com%2fauth%2fdrive%20https%3a%2f%2fwww.googleapis.com%2fauth%2fdrive.photos.readonly%20https%3a%2f%2fwww.googleapis.com%2fauth%2fpeopleapi.readonly\n",
            "\n",
            "Enter your authorization code:\n",
            "··········\n",
            "Mounted at /content/gdrive/\n"
          ],
          "name": "stdout"
        }
      ]
    },
    {
      "cell_type": "code",
      "metadata": {
        "id": "uUqFh6E5EOnN",
        "colab_type": "code",
        "colab": {}
      },
      "source": [
        "%%capture\n",
        "!sudo apt-get update\n",
        "!sudo apt-get install wget\n",
        "!wget --load-cookies /tmp/cookies.txt \"https://docs.google.com/uc?export=download&confirm=$(wget --quiet --save-cookies /tmp/cookies.txt --keep-session-cookies --no-check-certificate 'https://docs.google.com/uc?export=download&id=1AL0Rh5mjPgQH3pKrWqJlxVcbuAgXbON7' -O- | sed -rn 's/.*confirm=([0-9A-Za-z_]+).*/\\1\\n/p')&id=1AL0Rh5mjPgQH3pKrWqJlxVcbuAgXbON7\" -O data.zip && rm -rf /tmp/cookies.txt\n",
        "from zipfile import ZipFile\n",
        "with ZipFile('./data.zip', 'r') as zipObj:\n",
        "    print(\"Started unzipping... \\n\")\n",
        "    # Extract all the contents of zip file in current directory\n",
        "    zipObj.extractall()\n",
        "    print(\"Files unziped sucessfully\\n\")\n",
        "!ls"
      ],
      "execution_count": 0,
      "outputs": []
    },
    {
      "cell_type": "code",
      "metadata": {
        "id": "hq8ceLhYEW3d",
        "colab_type": "code",
        "outputId": "22f22d1d-a1a3-4a40-b53a-2db16dfda0b9",
        "colab": {
          "base_uri": "https://localhost:8080/",
          "height": 35
        }
      },
      "source": [
        "import os\n",
        "import random\n",
        "\n",
        "import numpy as np\n",
        "import matplotlib.pyplot as plt\n",
        "\n",
        "import torch\n",
        "import torch.nn as nn\n",
        "import torch.nn.functional as F\n",
        "import torchvision.transforms as transforms\n",
        "from torchvision import models\n",
        "from torchvision.datasets import ImageFolder\n",
        "from torch.utils.data import DataLoader, Dataset, SubsetRandomSampler\n",
        "\n",
        "from sklearn.model_selection import StratifiedShuffleSplit\n",
        "from sklearn.metrics import multilabel_confusion_matrix, accuracy_score\n",
        "\n",
        "from torch.optim.lr_scheduler import ReduceLROnPlateau\n",
        "\n",
        "from livelossplot import PlotLosses\n",
        "import torchvision.models\n",
        "\n",
        "from livelossplot import PlotLosses\n",
        "\n",
        "def set_seed(seed):\n",
        "    \"\"\"\n",
        "    Use this to set ALL the random seeds to a fixed value and take out any randomness from cuda kernels\n",
        "    \"\"\"\n",
        "    random.seed(seed)\n",
        "    np.random.seed(seed)\n",
        "    torch.manual_seed(seed)\n",
        "    torch.cuda.manual_seed_all(seed)\n",
        "\n",
        "    # uses the inbuilt cudnn auto-tuner to find the fastest convolution algorithms. -\n",
        "    torch.backends.cudnn.benchmark = True\n",
        "    torch.backends.cudnn.enabled = True\n",
        "\n",
        "    return True\n",
        "\n",
        "device = 'cpu'\n",
        "if torch.cuda.device_count() > 0 and torch.cuda.is_available():\n",
        "    print(\"Cuda installed! Running on GPU!\")\n",
        "    device = 'cuda'\n",
        "else:\n",
        "    print(\"No GPU available!\")"
      ],
      "execution_count": 5,
      "outputs": [
        {
          "output_type": "stream",
          "text": [
            "Cuda installed! Running on GPU!\n"
          ],
          "name": "stdout"
        }
      ]
    },
    {
      "cell_type": "code",
      "metadata": {
        "id": "YuqF1AvmFacW",
        "colab_type": "code",
        "colab": {}
      },
      "source": [
        "## set global hyperparameters\n",
        "seed = 42\n",
        "lr = 1e-2\n",
        "momentum = 0.9\n",
        "batch_size = 200\n",
        "test_batch_size = 1000\n",
        "n_epochs = 100\n",
        "weight_decay = 1e-5\n",
        "\n",
        "## calculated channel-wise mean and std of the training dataset\n",
        "mean = [0.48024845, 0.44807208, 0.39754644]\n",
        "std  = [0.27698642, 0.26906449, 0.28208190]\n",
        "\n",
        "## make transforms\n",
        "test_transform = transforms.Compose([#transforms.ToPILImage(),\n",
        "                                     transforms.Resize(256),\n",
        "                                     transforms.CenterCrop(224),\n",
        "                                     transforms.ToTensor(),\n",
        "                                     transforms.Normalize(mean, std)])\n",
        "\n",
        "train_transform = transforms.Compose([#transforms.ToPILImage(),  \n",
        "                                     transforms.Resize(256),\n",
        "                                     transforms.CenterCrop(224),\n",
        "                                      # transforms.ColorJitter(brightness=(1.,1.),  # do nothing to brightness\n",
        "                                                            #  contrast=(0.5, 1.5), # change contrast\n",
        "                                                            #  saturation=(1.,1.),  # do nothing to saturation\n",
        "                                                            #  hue=(0.,0.)),        # do nothing to hue\n",
        "                                      transforms.RandomHorizontalFlip(),\n",
        "                                      transforms.RandomRotation(10),\n",
        "                                      transforms.ToTensor(),\n",
        "                                      transforms.Normalize(mean, std)\n",
        "                                    ])"
      ],
      "execution_count": 0,
      "outputs": []
    },
    {
      "cell_type": "code",
      "metadata": {
        "id": "fA-4GEF3o8Ui",
        "colab_type": "code",
        "colab": {}
      },
      "source": [
        "train_data = ImageFolder('./train/', transform=train_transform)\n",
        "val_data   = ImageFolder('./train/', transform=test_transform)\n",
        "test_data  = ImageFolder('./test/', transform=test_transform)\n",
        "\n",
        "shuffler = StratifiedShuffleSplit(n_splits=1, test_size=0.1, random_state=seed).split(np.zeros(len(train_data)),train_data.targets)\n",
        "indices = [(train_idx, validation_idx)for train_idx, validation_idx in shuffler][0]\n",
        "sampler_train = SubsetRandomSampler(indices[0])\n",
        "sampler_val = SubsetRandomSampler(indices[1])\n",
        "\n",
        "train_loader = DataLoader(train_data,\n",
        "                          batch_size=batch_size,\n",
        "                          sampler=sampler_train,\n",
        "                          shuffle=False,\n",
        "                          num_workers=4)\n",
        "\n",
        "validation_loader = DataLoader(val_data,\n",
        "                               batch_size=test_batch_size,\n",
        "                               sampler=sampler_val,\n",
        "                               shuffle=False,\n",
        "                               num_workers=4)\n",
        "\n",
        "test_loader = DataLoader(test_data,\n",
        "                         batch_size=test_batch_size,\n",
        "                         shuffle=False,\n",
        "                         num_workers=4)"
      ],
      "execution_count": 0,
      "outputs": []
    },
    {
      "cell_type": "code",
      "metadata": {
        "id": "gjM5dH4SQdhj",
        "colab_type": "code",
        "colab": {}
      },
      "source": [
        "def mean_f1_score(true_pos, false_pos, false_neg):\n",
        "    \"\"\"\n",
        "    Compute the mean F1-score from arrays of true positives, false positives\n",
        "    and false negatives. \n",
        "    \"\"\"\n",
        "    all_pred_pos = true_pos + false_pos\n",
        "    all_act_pos = true_pos + false_neg\n",
        "\n",
        "    prec = np.divide(true_pos, all_pred_pos, where=(all_pred_pos != 0))\n",
        "    rec = np.divide(true_pos, all_act_pos, where=(all_act_pos != 0))\n",
        "    f1 = np.divide(2*prec*rec, prec+rec, where=(prec+rec != 0))\n",
        "\n",
        "    return np.mean(f1)\n",
        "\n",
        "\n",
        "def train(model, optimizer, criterion, data_loader, device):\n",
        "    model.train()\n",
        "    train_loss = 0.\n",
        "    mcm = np.zeros((200, 2, 2))\n",
        "    for X, y in data_loader:\n",
        "        X, y = X.to(device), y.to(device)\n",
        "        optimizer.zero_grad()\n",
        "        a2 = model(X)\n",
        "        loss = criterion(a2, y)\n",
        "        loss.backward()\n",
        "        train_loss += loss*X.size(0)\n",
        "        y_pred = F.log_softmax(a2, dim=1).max(1)[1]\n",
        "        mcm += multilabel_confusion_matrix(y.cpu().numpy(), y_pred.detach().cpu().numpy(), labels=list(range(200)))\n",
        "        optimizer.step()\n",
        "\n",
        "    return train_loss/len(data_loader.dataset), mean_f1_score(mcm[:, 1, 1], mcm[:, 0, 1], mcm[:, 1, 0])\n",
        "\n",
        "\n",
        "def validate(model, criterion, data_loader, device):\n",
        "    model.eval()\n",
        "    validation_loss = 0.\n",
        "    mcm = np.zeros((200, 2, 2))\n",
        "    for X, y in data_loader:\n",
        "        with torch.no_grad():\n",
        "            X, y = X.to(device), y.to(device)\n",
        "            a2 = model(X)\n",
        "            loss = criterion(a2, y)\n",
        "            validation_loss += loss*X.size(0)\n",
        "            y_pred = F.log_softmax(a2, dim=1).max(1)[1]\n",
        "            mcm += multilabel_confusion_matrix(y.cpu().numpy(), y_pred.detach().cpu().numpy(), labels=list(range(200)))\n",
        "\n",
        "    return validation_loss/len(data_loader.dataset), mean_f1_score(mcm[:, 1, 1], mcm[:, 0, 1], mcm[:, 1, 0])\n",
        "\n",
        "\n",
        "def evaluate(model, data_loader, device):\n",
        "    model.eval()\n",
        "    y_preds = []\n",
        "    for X, y in data_loader:\n",
        "        with torch.no_grad():\n",
        "            X, y = X.to(device), y.to(device)\n",
        "            a2 = model(X)\n",
        "            y_pred = F.log_softmax(a2, dim=1).max(1)[1]\n",
        "            y_preds.append(y_pred.cpu().numpy())\n",
        "\n",
        "    return np.concatenate(y_preds, 0)"
      ],
      "execution_count": 0,
      "outputs": []
    },
    {
      "cell_type": "code",
      "metadata": {
        "id": "WOkSaltW1QkO",
        "colab_type": "code",
        "colab": {
          "base_uri": "https://localhost:8080/",
          "height": 84,
          "referenced_widgets": [
            "e8db86d1fa324f72ac10b228d118fdd5",
            "e7c09448392b4a38a2025006a1e9fc1a",
            "6f8c460accb84e3a9ebb93610b2dd021",
            "10b91ba79f49404ba8b072755a594429",
            "9ea1453691724cbf97797bca55b31b93",
            "670593de6f92445287bcead14f6af3cf",
            "d82e340b4bce458b89465a1a5588338d",
            "daa4fca711d442919151450aa53976e6"
          ]
        },
        "outputId": "6b3084b8-a052-40aa-8a20-655b91ae01e3"
      },
      "source": [
        "model = torchvision.models.resnet50(pretrained=True)\n",
        "\n",
        "#Freezing all the layers\n",
        "for param in model.parameters():\n",
        "    param.requires_grad = False\n",
        "\n",
        "# Parameters of newly constructed modules have requires_grad=True by default\n",
        "num_ftrs = model.fc.in_features\n",
        "model.fc = nn.Linear(num_ftrs, 200)"
      ],
      "execution_count": 9,
      "outputs": [
        {
          "output_type": "stream",
          "text": [
            "Downloading: \"https://download.pytorch.org/models/resnet50-19c8e357.pth\" to /root/.cache/torch/checkpoints/resnet50-19c8e357.pth\n"
          ],
          "name": "stderr"
        },
        {
          "output_type": "display_data",
          "data": {
            "application/vnd.jupyter.widget-view+json": {
              "model_id": "e8db86d1fa324f72ac10b228d118fdd5",
              "version_minor": 0,
              "version_major": 2
            },
            "text/plain": [
              "HBox(children=(FloatProgress(value=0.0, max=102502400.0), HTML(value='')))"
            ]
          },
          "metadata": {
            "tags": []
          }
        },
        {
          "output_type": "stream",
          "text": [
            "\n"
          ],
          "name": "stdout"
        }
      ]
    },
    {
      "cell_type": "code",
      "metadata": {
        "id": "7LZlVqxmQgx3",
        "colab_type": "code",
        "colab": {}
      },
      "source": [
        "def train_model(model, params = model.parameters(),save_path=\"/content/gdrive/My Drive/\"):\n",
        "    set_seed(seed)\n",
        "    model.to(device)\n",
        "    optimizer = torch.optim.SGD(params, lr=lr,momentum=momentum, weight_decay=weight_decay)\n",
        "    criterion = nn.CrossEntropyLoss()\n",
        "\n",
        "    min_loss = float(\"inf\")\n",
        "    liveloss = PlotLosses()\n",
        "    for epoch in range(n_epochs):\n",
        "        logs = {}\n",
        "        train_loss, train_accuracy = train(model, optimizer, criterion, train_loader, device)\n",
        "\n",
        "        logs['' + 'log loss'] = train_loss.item()\n",
        "        logs['' + 'accuracy'] = train_accuracy.item()\n",
        "\n",
        "        validation_loss, validation_accuracy = validate(model, criterion, validation_loader, device)\n",
        "        logs['val_' + 'log loss'] = validation_loss.item()\n",
        "        logs['val_' + 'accuracy'] = validation_accuracy.item()\n",
        "\n",
        "        liveloss.update(logs)\n",
        "        liveloss.draw()\n",
        "\n",
        "        # Store best validation loss model\n",
        "        if save_path is not None and validation_loss < min_loss:\n",
        "            torch.save(model.state_dict(), save_path+F\"model_state_\"+str(epoch)+\".pth\")\n",
        "            min_loss = validation_loss\n",
        "\n",
        "    return model"
      ],
      "execution_count": 0,
      "outputs": []
    },
    {
      "cell_type": "code",
      "metadata": {
        "id": "jbIoT9Xwm8VQ",
        "colab_type": "code",
        "outputId": "14a5db1b-7bb5-4f62-e139-1b6fb3c7289e",
        "colab": {
          "base_uri": "https://localhost:8080/",
          "height": 430
        }
      },
      "source": [
        "model = train_model(model)"
      ],
      "execution_count": 0,
      "outputs": [
        {
          "output_type": "display_data",
          "data": {
            "image/png": "[encoded data removed]",
            "text/plain": [
              "<Figure size 864x576 with 2 Axes>"
            ]
          },
          "metadata": {
            "tags": [],
            "needs_background": "light"
          }
        },
        {
          "output_type": "stream",
          "text": [
            "accuracy\n",
            "\ttraining         \t (min:    0.298, max:    0.579, cur:    0.579)\n",
            "\tvalidation       \t (min:    0.501, max:    0.622, cur:    0.620)\n",
            "log loss\n",
            "\ttraining         \t (min:    1.518, max:    3.275, cur:    1.518)\n",
            "\tvalidation       \t (min:    0.153, max:    0.236, cur:    0.154)\n"
          ],
          "name": "stdout"
        }
      ]
    },
    {
      "cell_type": "code",
      "metadata": {
        "id": "cuXiMF-4xN39",
        "colab_type": "code",
        "colab": {}
      },
      "source": [
        "# model = models.resnet18(pretrained=True)\n",
        "# model_file = project_dir + 'MODEL_FILE.pth'\n",
        "# model.load_state_dict(torch.load(model_file))\n",
        "# model.to(device)\n",
        "\n",
        "prediction = evaluate(model, test_loader, device)"
      ],
      "execution_count": 0,
      "outputs": []
    },
    {
      "cell_type": "code",
      "metadata": {
        "id": "Q_jFfQir9axQ",
        "colab_type": "code",
        "colab": {}
      },
      "source": [
        "## create test prediction csv\n",
        "files_list = []\n",
        "file_inds = np.zeros(len(test_data), dtype=int)\n",
        "for i in range(len(test_data)):\n",
        "    filename = os.path.split(test_data.samples[i][0])[1]\n",
        "    filename = os.path.splitext(filename)[0]\n",
        "    files_list.append(filename + '.jpeg')\n",
        "    file_inds[i] = int(filename[5:])\n",
        "\n",
        "inds = file_inds.argsort()\n",
        "\n",
        "output = np.vstack((np.array(files_list)[inds], prediction[inds])).T\n",
        "output = np.vstack((['Filename','Label'], output))\n",
        "np.savetxt(project_dir+'prediction.csv', output, delimiter=\",\", fmt=('%s','%s'))"
      ],
      "execution_count": 0,
      "outputs": []
    }
  ]
}