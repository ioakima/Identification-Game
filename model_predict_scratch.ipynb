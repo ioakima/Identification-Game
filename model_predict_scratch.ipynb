{
  "nbformat": 4,
  "nbformat_minor": 0,
  "metadata": {
    "colab": {
      "name": "model_predict_scratch.ipynb",
      "provenance": [],
      "collapsed_sections": [],
      "authorship_tag": "ABX9TyNlmymsy4/vX/UUls6XtYgG",
      "include_colab_link": true
    },
    "kernelspec": {
      "name": "python3",
      "display_name": "Python 3"
    },
    "accelerator": "GPU"
  },
  "cells": [
    {
      "cell_type": "markdown",
      "metadata": {
        "id": "view-in-github",
        "colab_type": "text"
      },
      "source": [
        "<a href=\"https://colab.research.google.com/github/acse-2019/acse4-4-gauss/blob/master/model_predict_scratch.ipynb\" target=\"_parent\"><img src=\"https://colab.research.google.com/assets/colab-badge.svg\" alt=\"Open In Colab\"/></a>"
      ]
    },
    {
      "cell_type": "code",
      "metadata": {
        "id": "kYQdyGoXOJ51",
        "colab_type": "code",
        "outputId": "29c80652-9b34-4d5b-9046-e35e01820f50",
        "colab": {
          "base_uri": "https://localhost:8080/",
          "height": 425
        }
      },
      "source": [
        "!pip install livelossplot\n",
        "%pylab inline"
      ],
      "execution_count": 0,
      "outputs": [
        {
          "output_type": "stream",
          "text": [
            "Collecting livelossplot\n",
            "  Downloading https://files.pythonhosted.org/packages/7c/e4/a7884b57113dfe84d3565418820feae7a20964438beb1088b2b08820ad94/livelossplot-0.5.0-py3-none-any.whl\n",
            "Requirement already satisfied: matplotlib; python_version >= \"3.6\" in /usr/local/lib/python3.6/dist-packages (from livelossplot) (3.2.1)\n",
            "Requirement already satisfied: ipython in /usr/local/lib/python3.6/dist-packages (from livelossplot) (5.5.0)\n",
            "Requirement already satisfied: cycler>=0.10 in /usr/local/lib/python3.6/dist-packages (from matplotlib; python_version >= \"3.6\"->livelossplot) (0.10.0)\n",
            "Requirement already satisfied: python-dateutil>=2.1 in /usr/local/lib/python3.6/dist-packages (from matplotlib; python_version >= \"3.6\"->livelossplot) (2.8.1)\n",
            "Requirement already satisfied: pyparsing!=2.0.4,!=2.1.2,!=2.1.6,>=2.0.1 in /usr/local/lib/python3.6/dist-packages (from matplotlib; python_version >= \"3.6\"->livelossplot) (2.4.7)\n",
            "Requirement already satisfied: numpy>=1.11 in /usr/local/lib/python3.6/dist-packages (from matplotlib; python_version >= \"3.6\"->livelossplot) (1.18.4)\n",
            "Requirement already satisfied: kiwisolver>=1.0.1 in /usr/local/lib/python3.6/dist-packages (from matplotlib; python_version >= \"3.6\"->livelossplot) (1.2.0)\n",
            "Requirement already satisfied: pickleshare in /usr/local/lib/python3.6/dist-packages (from ipython->livelossplot) (0.7.5)\n",
            "Requirement already satisfied: pexpect; sys_platform != \"win32\" in /usr/local/lib/python3.6/dist-packages (from ipython->livelossplot) (4.8.0)\n",
            "Requirement already satisfied: setuptools>=18.5 in /usr/local/lib/python3.6/dist-packages (from ipython->livelossplot) (46.3.0)\n",
            "Requirement already satisfied: prompt-toolkit<2.0.0,>=1.0.4 in /usr/local/lib/python3.6/dist-packages (from ipython->livelossplot) (1.0.18)\n",
            "Requirement already satisfied: simplegeneric>0.8 in /usr/local/lib/python3.6/dist-packages (from ipython->livelossplot) (0.8.1)\n",
            "Requirement already satisfied: pygments in /usr/local/lib/python3.6/dist-packages (from ipython->livelossplot) (2.1.3)\n",
            "Requirement already satisfied: traitlets>=4.2 in /usr/local/lib/python3.6/dist-packages (from ipython->livelossplot) (4.3.3)\n",
            "Requirement already satisfied: decorator in /usr/local/lib/python3.6/dist-packages (from ipython->livelossplot) (4.4.2)\n",
            "Requirement already satisfied: six in /usr/local/lib/python3.6/dist-packages (from cycler>=0.10->matplotlib; python_version >= \"3.6\"->livelossplot) (1.12.0)\n",
            "Requirement already satisfied: ptyprocess>=0.5 in /usr/local/lib/python3.6/dist-packages (from pexpect; sys_platform != \"win32\"->ipython->livelossplot) (0.6.0)\n",
            "Requirement already satisfied: wcwidth in /usr/local/lib/python3.6/dist-packages (from prompt-toolkit<2.0.0,>=1.0.4->ipython->livelossplot) (0.1.9)\n",
            "Requirement already satisfied: ipython-genutils in /usr/local/lib/python3.6/dist-packages (from traitlets>=4.2->ipython->livelossplot) (0.2.0)\n",
            "Installing collected packages: livelossplot\n",
            "Successfully installed livelossplot-0.5.0\n",
            "Populating the interactive namespace from numpy and matplotlib\n"
          ],
          "name": "stdout"
        }
      ]
    },
    {
      "cell_type": "code",
      "metadata": {
        "id": "G5TJcOCHPtdZ",
        "colab_type": "code",
        "outputId": "98d562e5-0b36-4161-fd34-fb7c3cfef051",
        "colab": {
          "base_uri": "https://localhost:8080/",
          "height": 122
        }
      },
      "source": [
        "from google.colab import drive\n",
        "drive.mount('/content/gdrive/')"
      ],
      "execution_count": 0,
      "outputs": [
        {
          "output_type": "stream",
          "text": [
            "Go to this URL in a browser: https://accounts.google.com/o/oauth2/auth?client_id=947318989803-6bn6qk8qdgf4n4g3pfee6491hc0brc4i.apps.googleusercontent.com&redirect_uri=urn%3aietf%3awg%3aoauth%3a2.0%3aoob&response_type=code&scope=email%20https%3a%2f%2fwww.googleapis.com%2fauth%2fdocs.test%20https%3a%2f%2fwww.googleapis.com%2fauth%2fdrive%20https%3a%2f%2fwww.googleapis.com%2fauth%2fdrive.photos.readonly%20https%3a%2f%2fwww.googleapis.com%2fauth%2fpeopleapi.readonly\n",
            "\n",
            "Enter your authorization code:\n",
            "··········\n",
            "Mounted at /content/gdrive/\n"
          ],
          "name": "stdout"
        }
      ]
    },
    {
      "cell_type": "code",
      "metadata": {
        "id": "BRE6zFcRQAZc",
        "colab_type": "code",
        "outputId": "83a5e316-4e0d-4c6d-bcfe-82febb245c88",
        "colab": {
          "base_uri": "https://localhost:8080/",
          "height": 1000
        }
      },
      "source": [
        "!sudo apt-get update\n",
        "!sudo apt-get install wget\n",
        "!wget --load-cookies /tmp/cookies.txt \"https://docs.google.com/uc?export=download&confirm=$(wget --quiet --save-cookies /tmp/cookies.txt --keep-session-cookies --no-check-certificate 'https://docs.google.com/uc?export=download&id=1AL0Rh5mjPgQH3pKrWqJlxVcbuAgXbON7' -O- | sed -rn 's/.*confirm=([0-9A-Za-z_]+).*/\\1\\n/p')&id=1AL0Rh5mjPgQH3pKrWqJlxVcbuAgXbON7\" -O data.zip && rm -rf /tmp/cookies.txt\n",
        "from zipfile import ZipFile\n",
        "with ZipFile('./data.zip', 'r') as zipObj:\n",
        "    print(\"Started unzipping... \\n\")\n",
        "    # Extract all the contents of zip file in current directory\n",
        "    zipObj.extractall()\n",
        "    print(\"Files unziped sucessfully\\n\")\n",
        "!ls"
      ],
      "execution_count": 0,
      "outputs": [
        {
          "output_type": "stream",
          "text": [
            "\r0% [Working]\r            \rGet:1 http://security.ubuntu.com/ubuntu bionic-security InRelease [88.7 kB]\n",
            "\r0% [Waiting for headers] [1 InRelease 2,587 B/88.7 kB 3%] [Connected to cloud.r\r                                                                               \rHit:2 http://ppa.launchpad.net/graphics-drivers/ppa/ubuntu bionic InRelease\n",
            "\r0% [Waiting for headers] [1 InRelease 60.5 kB/88.7 kB 68%] [Connected to cloud.\r                                                                               \rHit:3 http://archive.ubuntu.com/ubuntu bionic InRelease\n",
            "\r                                                                               \rGet:4 http://archive.ubuntu.com/ubuntu bionic-updates InRelease [88.7 kB]\n",
            "\r                                                                               \rGet:5 http://ppa.launchpad.net/marutter/c2d4u3.5/ubuntu bionic InRelease [15.4 kB]\n",
            "\r0% [4 InRelease 8,396 B/88.7 kB 9%] [1 InRelease 60.5 kB/88.7 kB 68%] [Connecte\r0% [2 InRelease gpgv 21.3 kB] [4 InRelease 11.3 kB/88.7 kB 13%] [1 InRelease 72\r0% [2 InRelease gpgv 21.3 kB] [4 InRelease 20.0 kB/88.7 kB 23%] [Connected to c\r0% [2 InRelease gpgv 21.3 kB] [Waiting for headers] [Connected to cloud.r-proje\r                                                                               \rGet:6 http://archive.ubuntu.com/ubuntu bionic-backports InRelease [74.6 kB]\n",
            "\r0% [2 InRelease gpgv 21.3 kB] [6 InRelease 11.3 kB/74.6 kB 15%] [Waiting for he\r                                                                               \rGet:7 https://cloud.r-project.org/bin/linux/ubuntu bionic-cran35/ InRelease [3,626 B]\n",
            "\r0% [2 InRelease gpgv 21.3 kB] [6 InRelease 34.5 kB/74.6 kB 46%] [Waiting for he\r                                                                               \r0% [2 InRelease gpgv 21.3 kB] [Waiting for headers]\r                                                   \r0% [Waiting for headers]\r0% [3 InRelease gpgv 242 kB] [Waiting for headers]\r                                                  \rIgn:8 https://developer.download.nvidia.com/compute/cuda/repos/ubuntu1804/x86_64  InRelease\n",
            "\r0% [3 InRelease gpgv 242 kB] [Waiting for headers]\r                                                  \r0% [Waiting for headers]\r0% [5 InRelease gpgv 15.4 kB] [Waiting for headers]\r                                                   \r0% [Waiting for headers]\r0% [1 InRelease gpgv 88.7 kB] [Waiting for headers] [Connecting to ppa.launchpa\r                                                                               \rIgn:9 https://developer.download.nvidia.com/compute/machine-learning/repos/ubuntu1804/x86_64  InRelease\n",
            "\r                                                                               \r0% [1 InRelease gpgv 88.7 kB] [Connecting to ppa.launchpad.net (91.189.95.83)]\r                                                                              \rHit:10 https://developer.download.nvidia.com/compute/cuda/repos/ubuntu1804/x86_64  Release\n",
            "\r                                                                              \r0% [1 InRelease gpgv 88.7 kB] [Waiting for headers]\r                                                   \rGet:11 http://ppa.launchpad.net/marutter/c2d4u3.5/ubuntu bionic/main Sources [1,818 kB]\n",
            "Hit:12 https://developer.download.nvidia.com/compute/machine-learning/repos/ubuntu1804/x86_64  Release\n",
            "Get:13 http://security.ubuntu.com/ubuntu bionic-security/universe amd64 Packages [852 kB]\n",
            "Get:14 http://security.ubuntu.com/ubuntu bionic-security/main amd64 Packages [924 kB]\n",
            "Get:15 http://ppa.launchpad.net/marutter/c2d4u3.5/ubuntu bionic/main amd64 Packages [877 kB]\n",
            "Get:16 http://security.ubuntu.com/ubuntu bionic-security/restricted amd64 Packages [56.7 kB]\n",
            "Get:17 http://security.ubuntu.com/ubuntu bionic-security/multiverse amd64 Packages [8,815 B]\n",
            "Get:18 http://archive.ubuntu.com/ubuntu bionic-updates/universe amd64 Packages [1,385 kB]\n",
            "Get:19 http://archive.ubuntu.com/ubuntu bionic-updates/restricted amd64 Packages [73.0 kB]\n",
            "Get:20 http://archive.ubuntu.com/ubuntu bionic-updates/multiverse amd64 Packages [20.1 kB]\n",
            "Get:21 http://archive.ubuntu.com/ubuntu bionic-updates/main amd64 Packages [1,225 kB]\n",
            "Get:22 https://cloud.r-project.org/bin/linux/ubuntu bionic-cran35/ Packages [92.1 kB]\n",
            "Fetched 7,603 kB in 2s (4,921 kB/s)\n",
            "Reading package lists... Done\n",
            "Reading package lists... Done\n",
            "Building dependency tree       \n",
            "Reading state information... Done\n",
            "wget is already the newest version (1.19.4-1ubuntu2.2).\n",
            "0 upgraded, 0 newly installed, 0 to remove and 51 not upgraded.\n",
            "--2020-05-21 11:54:01--  https://docs.google.com/uc?export=download&confirm=a9wT&id=1AL0Rh5mjPgQH3pKrWqJlxVcbuAgXbON7\n",
            "Resolving docs.google.com (docs.google.com)... 173.194.76.102, 173.194.76.139, 173.194.76.138, ...\n",
            "Connecting to docs.google.com (docs.google.com)|173.194.76.102|:443... connected.\n",
            "HTTP request sent, awaiting response... 302 Moved Temporarily\n",
            "Location: https://doc-04-bc-docs.googleusercontent.com/docs/securesc/bo8ob6m1jftpjdns4iu1kal2to9a49m8/n87arksi826okdofq747ptqciao4h2bs/1590062025000/11747609020053411276/13617775193950703207Z/1AL0Rh5mjPgQH3pKrWqJlxVcbuAgXbON7?e=download [following]\n",
            "--2020-05-21 11:54:02--  https://doc-04-bc-docs.googleusercontent.com/docs/securesc/bo8ob6m1jftpjdns4iu1kal2to9a49m8/n87arksi826okdofq747ptqciao4h2bs/1590062025000/11747609020053411276/13617775193950703207Z/1AL0Rh5mjPgQH3pKrWqJlxVcbuAgXbON7?e=download\n",
            "Resolving doc-04-bc-docs.googleusercontent.com (doc-04-bc-docs.googleusercontent.com)... 173.194.76.132, 2a00:1450:400c:c00::84\n",
            "Connecting to doc-04-bc-docs.googleusercontent.com (doc-04-bc-docs.googleusercontent.com)|173.194.76.132|:443... connected.\n",
            "HTTP request sent, awaiting response... 302 Found\n",
            "Location: https://docs.google.com/nonceSigner?nonce=le96h93v9nk7s&continue=https://doc-04-bc-docs.googleusercontent.com/docs/securesc/bo8ob6m1jftpjdns4iu1kal2to9a49m8/n87arksi826okdofq747ptqciao4h2bs/1590062025000/11747609020053411276/13617775193950703207Z/1AL0Rh5mjPgQH3pKrWqJlxVcbuAgXbON7?e%3Ddownload&hash=p9dc8qfcb3r54fh6b861ragr9o6o79a9 [following]\n",
            "--2020-05-21 11:54:02--  https://docs.google.com/nonceSigner?nonce=le96h93v9nk7s&continue=https://doc-04-bc-docs.googleusercontent.com/docs/securesc/bo8ob6m1jftpjdns4iu1kal2to9a49m8/n87arksi826okdofq747ptqciao4h2bs/1590062025000/11747609020053411276/13617775193950703207Z/1AL0Rh5mjPgQH3pKrWqJlxVcbuAgXbON7?e%3Ddownload&hash=p9dc8qfcb3r54fh6b861ragr9o6o79a9\n",
            "Connecting to docs.google.com (docs.google.com)|173.194.76.102|:443... connected.\n",
            "HTTP request sent, awaiting response... 302 Found\n",
            "Location: https://doc-04-bc-docs.googleusercontent.com/docs/securesc/bo8ob6m1jftpjdns4iu1kal2to9a49m8/n87arksi826okdofq747ptqciao4h2bs/1590062025000/11747609020053411276/13617775193950703207Z/1AL0Rh5mjPgQH3pKrWqJlxVcbuAgXbON7?e=download&nonce=le96h93v9nk7s&user=13617775193950703207Z&hash=tqulsu2kef2vqg9snbqqa76vub0kria0 [following]\n",
            "--2020-05-21 11:54:02--  https://doc-04-bc-docs.googleusercontent.com/docs/securesc/bo8ob6m1jftpjdns4iu1kal2to9a49m8/n87arksi826okdofq747ptqciao4h2bs/1590062025000/11747609020053411276/13617775193950703207Z/1AL0Rh5mjPgQH3pKrWqJlxVcbuAgXbON7?e=download&nonce=le96h93v9nk7s&user=13617775193950703207Z&hash=tqulsu2kef2vqg9snbqqa76vub0kria0\n",
            "Connecting to doc-04-bc-docs.googleusercontent.com (doc-04-bc-docs.googleusercontent.com)|173.194.76.132|:443... connected.\n",
            "HTTP request sent, awaiting response... 200 OK\n",
            "Length: unspecified [application/zip]\n",
            "Saving to: ‘data.zip’\n",
            "\n",
            "data.zip                [       <=>          ] 256.54M   186MB/s    in 1.4s    \n",
            "\n",
            "2020-05-21 11:54:03 (186 MB/s) - ‘data.zip’ saved [269003169]\n",
            "\n",
            "Started unzipping... \n",
            "\n",
            "Files unziped sucessfully\n",
            "\n",
            "data.zip  gdrive  __MACOSX  mapping.json  mapping.py  sample_data  test  train\n"
          ],
          "name": "stdout"
        }
      ]
    },
    {
      "cell_type": "code",
      "metadata": {
        "id": "xRHKtN1KOxYF",
        "colab_type": "code",
        "outputId": "afa83702-3c11-4a40-d213-d7b2978984c8",
        "colab": {
          "base_uri": "https://localhost:8080/",
          "height": 34
        }
      },
      "source": [
        "import os\n",
        "import time\n",
        "import random\n",
        "import numpy as np\n",
        "import matplotlib.pyplot as plt\n",
        "\n",
        "import torch\n",
        "import torch.nn as nn\n",
        "import torch.nn.functional as F\n",
        "import torchvision.transforms as transforms\n",
        "from torchvision.utils import make_grid\n",
        "from torch.utils.data import TensorDataset, DataLoader, Dataset, SubsetRandomSampler\n",
        "from torchvision.datasets import ImageFolder\n",
        "\n",
        "from sklearn.model_selection import StratifiedShuffleSplit\n",
        "from sklearn.metrics import multilabel_confusion_matrix, accuracy_score\n",
        "\n",
        "from livelossplot import PlotLosses\n",
        "\n",
        "def set_seed(seed):\n",
        "    \"\"\"\n",
        "    Use this to set ALL the random seeds to a fixed value and take out any randomness from cuda kernels\n",
        "    \"\"\"\n",
        "    random.seed(seed)\n",
        "    np.random.seed(seed)\n",
        "    torch.manual_seed(seed)\n",
        "    torch.cuda.manual_seed_all(seed)\n",
        "\n",
        "    torch.backends.cudnn.benchmark = True  ##uses the inbuilt cudnn auto-tuner to find the fastest convolution algorithms. -\n",
        "    torch.backends.cudnn.enabled   = True\n",
        "\n",
        "    return True\n",
        "\n",
        "device = 'cpu'\n",
        "if torch.cuda.device_count() > 0 and torch.cuda.is_available():\n",
        "    print(\"Cuda installed! Running on GPU!\")\n",
        "    device = 'cuda'\n",
        "else:\n",
        "    print(\"No GPU available!\")"
      ],
      "execution_count": 0,
      "outputs": [
        {
          "output_type": "stream",
          "text": [
            "Cuda installed! Running on GPU!\n"
          ],
          "name": "stdout"
        }
      ]
    },
    {
      "cell_type": "code",
      "metadata": {
        "id": "2oP8ZuRgmcax",
        "colab_type": "code",
        "colab": {}
      },
      "source": [
        "## set global hyperparameters\n",
        "seed = 42\n",
        "lr = 1e-2\n",
        "momentum = 0.9\n",
        "batch_size = 250\n",
        "test_batch_size = 1000\n",
        "n_epochs = 100\n",
        "weight_decay = 1e-5"
      ],
      "execution_count": 0,
      "outputs": []
    },
    {
      "cell_type": "code",
      "metadata": {
        "id": "9NHeEeJvkvaf",
        "colab_type": "code",
        "colab": {}
      },
      "source": [
        "mean = [0.48024845, 0.44807208, 0.39754644]\n",
        "std  = [0.27698642, 0.26906449, 0.28208190]\n",
        "\n",
        "## make transforms\n",
        "test_transform = transforms.Compose([transforms.ToTensor(),\n",
        "                                     transforms.Normalize(mean, std)])\n",
        "train_transform = transforms.Compose([transforms.ToPILImage(),  \n",
        "                                      # transforms.ColorJitter(brightness=(1.,1.),  # do nothing to brightness\n",
        "                                                            #  contrast=(0.5, 1.5), # change contrast\n",
        "                                                            #  saturation=(1.,1.),  # do nothing to saturation\n",
        "                                                            #  hue=(0.,0.)),        # do nothing to hue\n",
        "                                      transforms.RandomHorizontalFlip(),\n",
        "                                      transforms.RandomCrop(64, padding=5),\n",
        "                                      transforms.RandomRotation(10),\n",
        "                                      transforms.ToTensor(),\n",
        "                                      transforms.Normalize(mean, std)\n",
        "                                      ])\n",
        "\n",
        "## Load the data into datasets (data not in memory)\n",
        "training_data = ImageFolder('./train/', transform=transforms.ToTensor()) # do not wan to transform training data before it has been split\n",
        "test_data = ImageFolder('./test/', transform=test_transform)\n",
        "labels = list(training_data.class_to_idx.values())\n",
        "\n",
        "## create a random split for the training set into validation set\n",
        "val_size = 0.1\n",
        "shuffler = StratifiedShuffleSplit(n_splits=1, test_size=val_size, random_state=seed).split(np.zeros(len(training_data)), training_data.targets)\n",
        "indices = [(train_idx, validation_idx) for train_idx, validation_idx in shuffler][0]\n",
        "\n",
        "## Training and validation samplers for data loaders\n",
        "training_sampler   = SubsetRandomSampler(indices[0])\n",
        "validation_sampler = SubsetRandomSampler(indices[1])\n",
        "\n",
        "## Training and validation data loaders\n",
        "train_loader_      = DataLoader(training_data, batch_size,      sampler=training_sampler,   shuffle=False, num_workers=4)\n",
        "validation_loader_ = DataLoader(training_data, test_batch_size, sampler=validation_sampler, shuffle=False, num_workers=4)"
      ],
      "execution_count": 0,
      "outputs": []
    },
    {
      "cell_type": "code",
      "metadata": {
        "id": "tBZ81Y_CmuHR",
        "colab_type": "code",
        "colab": {}
      },
      "source": [
        "class CustomImageTensorDataset(Dataset):\n",
        "    def __init__(self, data, targets, transformation=None):\n",
        "        \"\"\"\n",
        "        Args:\n",
        "            data (Tensor): A tensor containing the data e.g. images\n",
        "            targets (Tensor): A tensor containing all the labels\n",
        "            transform (callable, optional): Optional transform to be applied\n",
        "                on a sample.\n",
        "        \"\"\"\n",
        "        self.data = data\n",
        "        self.targets = targets\n",
        "        self.transformation = transformation\n",
        "    \n",
        "    def __getitem__(self, idx):\n",
        "        img, label = self.data[idx], self.targets[idx]\n",
        "        if self.transformation:\n",
        "            img = self.transformation(img)\n",
        "            \n",
        "        return img, label\n",
        "    \n",
        "    def __len__(self):\n",
        "        return len(self.data)"
      ],
      "execution_count": 0,
      "outputs": []
    },
    {
      "cell_type": "code",
      "metadata": {
        "id": "hiORjJAC9acc",
        "colab_type": "code",
        "colab": {}
      },
      "source": [
        "## Pre-load the dataset into memory for faster access during training\n",
        "num_data  = len(training_data)\n",
        "num_train = int(num_data*(1-val_size))\n",
        "num_val   = num_data - num_train\n",
        "\n",
        "X_train, y_train = torch.Tensor(num_train, 3, 64, 64), torch.LongTensor(num_train)\n",
        "X_val  , y_val   = torch.Tensor(num_val  , 3, 64, 64), torch.LongTensor(num_val)\n",
        "\n",
        "idx = 0\n",
        "for X_, y_ in train_loader_:\n",
        "    bsize = X_.size(0)\n",
        "    X_train[idx:idx+bsize, ...] = X_\n",
        "    y_train[idx:idx+bsize] = y_\n",
        "    idx += bsize\n",
        "idx = 0\n",
        "for X_, y_ in validation_loader_:\n",
        "    bsize = X_.size(0)\n",
        "    X_val[idx:idx+bsize, ...] = X_\n",
        "    y_val[idx:idx+bsize] = y_\n",
        "    idx += bsize\n",
        "\n",
        "## Create datasets\n",
        "training_data_   = CustomImageTensorDataset(X_train, y_train, transformation=train_transform)\n",
        "validation_data_ = CustomImageTensorDataset(X_val, y_val, transformation=transforms.Normalize(mean, std))\n",
        "\n",
        "## Create fast dataloaders\n",
        "train_loader      = DataLoader(training_data_,   batch_size=batch_size,      shuffle=True,  num_workers=4)\n",
        "validation_loader = DataLoader(validation_data_, batch_size=test_batch_size, shuffle=False, num_workers=4)"
      ],
      "execution_count": 0,
      "outputs": []
    },
    {
      "cell_type": "code",
      "metadata": {
        "id": "gxZmirwsEgnx",
        "colab_type": "code",
        "colab": {}
      },
      "source": [
        "class SimpleNet(nn.Module):\n",
        "    def __init__(self):\n",
        "        super(SimpleNet, self).__init__()\n",
        "        self.c11 = nn.Conv2d(3, 32, kernel_size=3, stride=1, padding=1)\n",
        "        self.b11 = nn.BatchNorm2d(32)\n",
        "        self.c12 = nn.Conv2d(32, 32, kernel_size=3, stride=1, padding=1)\n",
        "        self.b12 = nn.BatchNorm2d(32)\n",
        "        self.s1  = nn.MaxPool2d(kernel_size=2, stride=2)\n",
        "        self.d1  = nn.Dropout(p=0.2)\n",
        "        \n",
        "        self.c21 = nn.Conv2d(32, 64, kernel_size=3, stride=1, padding=1)\n",
        "        self.b21 = nn.BatchNorm2d(64)\n",
        "        self.c22 = nn.Conv2d(64, 64, kernel_size=3, stride=1, padding=1)\n",
        "        self.b22 = nn.BatchNorm2d(64)\n",
        "        self.s2  = nn.MaxPool2d(kernel_size=2, stride=2)\n",
        "        self.d2  = nn.Dropout(p=0.3)\n",
        "        \n",
        "        self.c31 = nn.Conv2d(64, 128, kernel_size=3, stride=1, padding=1)\n",
        "        self.b31 = nn.BatchNorm2d(128)\n",
        "        self.c32 = nn.Conv2d(128, 128, kernel_size=3, stride=1, padding=1)\n",
        "        self.b32 = nn.BatchNorm2d(128)\n",
        "        self.s3  = nn.MaxPool2d(kernel_size=2, stride=2)\n",
        "        self.d3  = nn.Dropout(p=0.4)\n",
        "        \n",
        "        # self.f4 = nn.Linear(128*8*8, 128)\n",
        "        # self.b4 = nn.BatchNorm1d(128)\n",
        "        # self.d4 = nn.Dropout(p=0.5)\n",
        "        \n",
        "        self.output = nn.Linear(128*8*8, 200)\n",
        "        \n",
        "        self.act = nn.ReLU()\n",
        "    \n",
        "    def forward(self, x):\n",
        "        x = self.act(self.c11(x))\n",
        "        x = self.b11(x)\n",
        "        x = self.act(self.c12(x))\n",
        "        x = self.b12(x)\n",
        "        x = self.s1(x)\n",
        "        x = self.d1(x)\n",
        "        \n",
        "        x = self.act(self.c21(x))\n",
        "        x = self.b21(x)\n",
        "        x = self.act(self.c22(x))\n",
        "        x = self.b22(x)\n",
        "        x = self.s2(x)\n",
        "        x = self.d2(x)\n",
        "        \n",
        "        x = self.act(self.c31(x))\n",
        "        x = self.b31(x)\n",
        "        x = self.act(self.c32(x))\n",
        "        x = self.b32(x)\n",
        "        x = self.s3(x)\n",
        "        x = self.d3(x)\n",
        "        \n",
        "        x = x.view(-1, x.size(1)*x.size(2)*x.size(3))\n",
        "        # x = self.act(self.f4(x))\n",
        "        # x = self.b4(x)\n",
        "        # x = self.d4(x)\n",
        "        return self.output(x)"
      ],
      "execution_count": 0,
      "outputs": []
    },
    {
      "cell_type": "code",
      "metadata": {
        "id": "xaBG8Yv9lxGN",
        "colab_type": "code",
        "colab": {}
      },
      "source": [
        "def mean_f1_score(true_pos, false_pos, false_neg):\n",
        "    all_pred_pos = true_pos + false_pos\n",
        "    all_act_pos  = true_pos + false_neg\n",
        "    \n",
        "    prec = np.divide(true_pos, all_pred_pos, where=(all_pred_pos != 0))\n",
        "    rec = np.divide(true_pos, all_act_pos, where=(all_act_pos != 0))\n",
        "    f1 = np.divide(2*prec*rec, prec+rec, where=(prec+rec != 0))\n",
        "\n",
        "    return np.mean(f1)\n",
        "\n",
        "def train(model, optimizer, criterion, data_loader):\n",
        "    model.train()\n",
        "    train_loss, train_accuracy = 0, 0\n",
        "    mcm = np.zeros((len(labels), 2, 2))\n",
        "    for X, y in data_loader:\n",
        "        X, y = X.to(device), y.to(device)\n",
        "        optimizer.zero_grad()\n",
        "        a2 = model(X)\n",
        "        loss = criterion(a2, y)\n",
        "        loss.backward()\n",
        "        train_loss += loss*X.size(0)\n",
        "        y_pred = F.log_softmax(a2, dim=1).max(1)[1]\n",
        "        train_accuracy += accuracy_score(y.cpu().numpy(), y_pred.detach().cpu().numpy())*X.size(0)\n",
        "        mcm += multilabel_confusion_matrix(y.cpu().numpy(), y_pred.detach().cpu().numpy(), labels=labels)\n",
        "        optimizer.step()  \n",
        "        \n",
        "    return train_loss/len(data_loader.dataset), mean_f1_score(mcm[:, 1, 1], mcm[:, 0, 1], mcm[:, 1, 0]) \n",
        "    #train_accuracy/len(data_loader.dataset)\n",
        "  \n",
        "def validate(model, criterion, data_loader):\n",
        "    model.eval()\n",
        "    validation_loss, validation_accuracy = 0., 0.\n",
        "    mcm = np.zeros((len(labels), 2, 2))\n",
        "    for X, y in data_loader:\n",
        "        with torch.no_grad():\n",
        "            X, y = X.to(device), y.to(device)\n",
        "            a2 = model(X)\n",
        "            loss = criterion(a2, y)\n",
        "            validation_loss += loss*X.size(0)\n",
        "            y_pred = F.log_softmax(a2, dim=1).max(1)[1]\n",
        "            validation_accuracy += accuracy_score(y.cpu().numpy(), y_pred.cpu().numpy())*X.size(0)\n",
        "            mcm += multilabel_confusion_matrix(y.cpu().numpy(), y_pred.detach().cpu().numpy(), labels=labels)\n",
        "\n",
        "    return validation_loss/len(data_loader.dataset), mean_f1_score(mcm[:, 1, 1], mcm[:, 0, 1], mcm[:, 1, 0])\n",
        "    #validation_accuracy/len(data_loader.dataset)\n",
        "  \n",
        "def evaluate(model, data_loader):\n",
        "    model.eval()\n",
        "    ys, y_preds = [], []\n",
        "    for X, y in data_loader:\n",
        "        with torch.no_grad():\n",
        "            X, y = X.to(device), y.to(device)\n",
        "            a2 = model(X)\n",
        "            y_pred = F.log_softmax(a2, dim=1).max(1)[1]\n",
        "            ys.append(y.cpu().numpy())\n",
        "            y_preds.append(y_pred.cpu().numpy())\n",
        "            \n",
        "    return np.concatenate(y_preds, 0),  np.concatenate(ys, 0)"
      ],
      "execution_count": 0,
      "outputs": []
    },
    {
      "cell_type": "code",
      "metadata": {
        "id": "-ajkI4fMl_ij",
        "colab_type": "code",
        "colab": {}
      },
      "source": [
        "def train_model(model):\n",
        "  set_seed(seed)\n",
        "  model.to(device)\n",
        "  optimizer = torch.optim.SGD(model.parameters(), lr=lr, momentum=momentum, weight_decay=weight_decay)\n",
        "  criterion = nn.CrossEntropyLoss()\n",
        "\n",
        "  liveloss = PlotLosses()\n",
        "  for epoch in range(n_epochs):\n",
        "      t0 = time.time()\n",
        "      logs = {}\n",
        "      train_loss, train_accuracy = train(model, optimizer, criterion, train_loader)\n",
        "\n",
        "      logs['' + 'log loss'] = train_loss.item()\n",
        "      logs['' + 'accuracy'] = train_accuracy.item()\n",
        "\n",
        "      validation_loss, validation_accuracy = validate(model, criterion, validation_loader)\n",
        "      logs['val_' + 'log loss'] = validation_loss.item()\n",
        "      logs['val_' + 'accuracy'] = validation_accuracy.item()\n",
        "\n",
        "      liveloss.update(logs)\n",
        "      liveloss.draw()\n",
        "      print(time.time()-t0)\n",
        "\n",
        "      torch.save(model.state_dict(), path)\n",
        "      \n",
        "  return model"
      ],
      "execution_count": 0,
      "outputs": []
    },
    {
      "cell_type": "code",
      "metadata": {
        "id": "9y4DO05xre_B",
        "colab_type": "code",
        "outputId": "d0a6edae-e16f-4bc7-c42b-3c13e69091ae",
        "colab": {
          "base_uri": "https://localhost:8080/",
          "height": 445
        }
      },
      "source": [
        "model_save_name = 'SimpleNet_image_classifier_v4.pth'\n",
        "path = F\"/content/gdrive/My Drive/acse-miniproject/{model_save_name}\" \n",
        "model = train_model(SimpleNet())"
      ],
      "execution_count": 0,
      "outputs": [
        {
          "output_type": "display_data",
          "data": {
            "image/png": "[encoded data removed]",
            "text/plain": [
              "<Figure size 864x576 with 2 Axes>"
            ]
          },
          "metadata": {
            "tags": [],
            "needs_background": "light"
          }
        },
        {
          "output_type": "stream",
          "text": [
            "accuracy\n",
            "\ttraining         \t (min:    0.081, max:    0.588, cur:    0.588)\n",
            "\tvalidation       \t (min:    0.145, max:    0.459, cur:    0.450)\n",
            "log loss\n",
            "\ttraining         \t (min:    1.551, max:    4.866, cur:    1.551)\n",
            "\tvalidation       \t (min:    2.443, max:    4.008, cur:    2.517)\n",
            "76.95291209220886\n"
          ],
          "name": "stdout"
        }
      ]
    },
    {
      "cell_type": "code",
      "metadata": {
        "id": "_9WD0d5Brg4F",
        "colab_type": "code",
        "colab": {}
      },
      "source": [
        "# model = SimpleNet()\n",
        "# model_load_name = 'SimpleNet_image_classifier_v4.pth'\n",
        "# path = F\"/content/gdrive/My Drive/acse-miniproject/{model_load_name}\" \n",
        "# model.load_state_dict(torch.load(path))\n",
        "# model.to(device)\n",
        "\n",
        "test_loader = DataLoader(test_data, batch_size=test_batch_size, shuffle=False, num_workers=0)\n",
        "prediction = evaluate(model, test_loader)[0]"
      ],
      "execution_count": 0,
      "outputs": []
    },
    {
      "cell_type": "code",
      "metadata": {
        "id": "gxon4nQSzYTk",
        "colab_type": "code",
        "colab": {}
      },
      "source": [
        "## create test prediction csv\n",
        "files_list = []\n",
        "file_inds = np.zeros(len(test_data), dtype=int)\n",
        "for i in range(len(test_data)):\n",
        "    filename = os.path.split(test_data.samples[i][0])[1]\n",
        "    filename = os.path.splitext(filename)[0]\n",
        "    files_list.append(filename + '.jpeg')\n",
        "    file_inds[i] = int(filename[5:])\n",
        "\n",
        "inds = file_inds.argsort()\n",
        "\n",
        "output = np.vstack((np.array(files_list)[inds], prediction[inds])).T\n",
        "output = np.vstack((['Filename','Label'], output))\n",
        "np.savetxt(\"/content/gdrive/My Drive/acse-miniproject/prediction.csv\", output, delimiter=\",\", fmt=('%s','%s'))"
      ],
      "execution_count": 0,
      "outputs": []
    },
    {
      "cell_type": "code",
      "metadata": {
        "id": "pdjxZ9uzkMhC",
        "colab_type": "code",
        "colab": {}
      },
      "source": [
        ""
      ],
      "execution_count": 0,
      "outputs": []
    }
  ]
}